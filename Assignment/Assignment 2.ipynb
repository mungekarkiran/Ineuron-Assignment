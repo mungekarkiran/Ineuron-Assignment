{
 "cells": [
  {
   "cell_type": "markdown",
   "id": "c29000cf",
   "metadata": {},
   "source": [
    "## 1.What are the two values of the Boolean data type? How do you write them?\n",
    "\n",
    "**Ans:**\n",
    "    \n",
    "Two values of the Boolean data type `True` and `False` or `1` and `0`. \n",
    "\n",
    "**eg:-** \n",
    "\n",
    "- In a while loop, `while True` and `while 1` are work same."
   ]
  },
  {
   "cell_type": "code",
   "execution_count": 1,
   "id": "9c058a66",
   "metadata": {},
   "outputs": [],
   "source": [
    "while True:\n",
    "    break"
   ]
  },
  {
   "cell_type": "code",
   "execution_count": 2,
   "id": "f3ebfc27",
   "metadata": {},
   "outputs": [],
   "source": [
    "while 1:\n",
    "    break"
   ]
  },
  {
   "cell_type": "code",
   "execution_count": 3,
   "id": "df6f36c3",
   "metadata": {},
   "outputs": [
    {
     "name": "stdout",
     "output_type": "stream",
     "text": [
      "True <class 'bool'> \n",
      " False <class 'bool'>\n"
     ]
    }
   ],
   "source": [
    "a = True\n",
    "b = False\n",
    "print(a, type(a), '\\n', b, type(b))"
   ]
  },
  {
   "cell_type": "code",
   "execution_count": 5,
   "id": "1165247f",
   "metadata": {},
   "outputs": [
    {
     "name": "stdout",
     "output_type": "stream",
     "text": [
      "True <class 'bool'> \n",
      " False <class 'bool'>\n"
     ]
    }
   ],
   "source": [
    "a = bool(1)\n",
    "b = bool(0)\n",
    "print(a, type(a), '\\n', b, type(b))"
   ]
  },
  {
   "cell_type": "markdown",
   "id": "bd392d87",
   "metadata": {},
   "source": [
    "## 2. What are the three different types of Boolean operators?\n",
    "\n",
    "**Ans:**\n",
    "    \n",
    "Three different types of Boolean operators are AND (&), OR (|) and NOT (~)."
   ]
  },
  {
   "cell_type": "code",
   "execution_count": 21,
   "id": "a3c968f2",
   "metadata": {},
   "outputs": [
    {
     "name": "stdout",
     "output_type": "stream",
     "text": [
      "True\n",
      "False\n",
      "False\n",
      "False\n"
     ]
    }
   ],
   "source": [
    "print(True&True)\n",
    "print(False&True)\n",
    "print(True&False)\n",
    "print(False&False)"
   ]
  },
  {
   "cell_type": "code",
   "execution_count": 22,
   "id": "fe96e221",
   "metadata": {},
   "outputs": [
    {
     "name": "stdout",
     "output_type": "stream",
     "text": [
      "True\n",
      "True\n",
      "True\n",
      "False\n"
     ]
    }
   ],
   "source": [
    "print(True|True)\n",
    "print(False|True)\n",
    "print(True|False)\n",
    "print(False|False)"
   ]
  },
  {
   "cell_type": "code",
   "execution_count": 23,
   "id": "fe4af8e0",
   "metadata": {},
   "outputs": [
    {
     "data": {
      "text/plain": [
       "(-2, -1)"
      ]
     },
     "execution_count": 23,
     "metadata": {},
     "output_type": "execute_result"
    }
   ],
   "source": [
    "~True, ~False"
   ]
  },
  {
   "cell_type": "markdown",
   "id": "e0eb57c5",
   "metadata": {},
   "source": [
    "## 3. Make a list of each Boolean operator's truth tables (i.e. every possible combination of Boolean values for the operator and what it evaluate ).\n",
    "\n",
    "**Ans:**\n",
    "\n",
    "\n",
    "> AND Truth Table\n",
    "> - True\tand\tTrue\tTrue\n",
    "> - True\tand\tFalse\tFalse\n",
    "> - False\tand\tTrue\tFalse\n",
    "> - False\tand\tFalse\tFalse\n",
    "\n",
    "> OR Truth Table\n",
    "> - True\tor\tTrue\tTrue\n",
    "> - True\tor\tFalse\tTrue\n",
    "> - False\tor\tTrue\tTrue\n",
    "> - False\tor\tFalse\tFalse\n",
    "\n",
    "> NOT Truth Table\n",
    "> - not\tTrue\tFalse\n",
    "> - not\tFalse\tTrue"
   ]
  },
  {
   "cell_type": "code",
   "execution_count": 24,
   "id": "50f64908",
   "metadata": {},
   "outputs": [
    {
     "name": "stdout",
     "output_type": "stream",
     "text": [
      "True and True :  True\n",
      "True and False :  False\n",
      "False and True :  False\n",
      "False and False :  False\n"
     ]
    }
   ],
   "source": [
    "# AND Truth Table\n",
    "print('True and True : ',True and True)\n",
    "print('True and False : ',True and False) \n",
    "print('False and True : ',False and True)\n",
    "print('False and False : ',False and False)"
   ]
  },
  {
   "cell_type": "code",
   "execution_count": 25,
   "id": "164941ca",
   "metadata": {},
   "outputs": [
    {
     "name": "stdout",
     "output_type": "stream",
     "text": [
      "True or True :  True\n",
      "True or False :  True\n",
      "False or True :  True\n",
      "False or False :  False\n"
     ]
    }
   ],
   "source": [
    "# OR Truth Table\n",
    "print('True or True : ',True or True)\n",
    "print('True or False : ',True or False) \n",
    "print('False or True : ',False or True)\n",
    "print('False or False : ',False or False)"
   ]
  },
  {
   "cell_type": "code",
   "execution_count": 26,
   "id": "5a3c6c1f",
   "metadata": {},
   "outputs": [
    {
     "name": "stdout",
     "output_type": "stream",
     "text": [
      "not True :  False\n",
      "not False :  True\n"
     ]
    }
   ],
   "source": [
    "# NOT Truth Table\n",
    "print('not True : ',not True)\n",
    "print('not False : ',not False)"
   ]
  },
  {
   "cell_type": "markdown",
   "id": "f318e3a9",
   "metadata": {},
   "source": [
    "## 4. What are the values of the following expressions ?\n",
    "\n",
    "`(5 > 4) and (3 == 5)`\n",
    "\n",
    "`not (5 > 4)`\n",
    "\n",
    "`(5 > 4) or (3 == 5)`\n",
    "\n",
    "`not ((5 > 4) or (3 == 5))`\n",
    "\n",
    "`(True and True) and (True == False)`\n",
    "\n",
    "`(not False) or (not True)`\n",
    "\n",
    "**Ans:**\n",
    "    "
   ]
  },
  {
   "cell_type": "code",
   "execution_count": 27,
   "id": "b5dba6f3",
   "metadata": {},
   "outputs": [
    {
     "name": "stdout",
     "output_type": "stream",
     "text": [
      "False\n",
      "False\n",
      "True\n",
      "False\n",
      "False\n",
      "True\n"
     ]
    }
   ],
   "source": [
    "print((5 > 4) and (3 == 5))\n",
    "print(not (5 > 4))\n",
    "print((5 > 4) or (3 == 5))\n",
    "print(not ((5 > 4) or (3 == 5)))\n",
    "print((True and True) and (True == False))\n",
    "print((not False) or (not True))"
   ]
  },
  {
   "cell_type": "markdown",
   "id": "018dec2d",
   "metadata": {},
   "source": [
    "## 5. What are the six comparison operators?\n",
    "\n",
    "**Ans:**\n",
    "    \n",
    "`Equal` `==` , `Not Equal` `!=` , `Less than` `<` , `Greater than` `>` , `Less than or equal to` `<=` , `Greater than or equal to` `=>`"
   ]
  },
  {
   "cell_type": "markdown",
   "id": "7f2c423a",
   "metadata": {},
   "source": [
    "## 6. How do you tell the difference between the equal to and assignment operators? Describe a condition and when you would use one ?\n",
    "\n",
    "**Ans:**\n",
    "    \n",
    "`==` is the equal to operator that compares two values and evaluates to a Boolean, while `=` is that assignment operator that stores a value in a variable.\n",
    "\n",
    "**eg:**\n",
    "    \n",
    "> `a = 10` `#assignment operator`\n",
    "\n",
    "> `print(a)`\n",
    "\n",
    "**Output:**\n",
    "\n",
    "`10`\n",
    "\n",
    "> `print(a == 100)` `#equal to operator`\n",
    "\n",
    "**Output:**\n",
    "\n",
    "`False`\n"
   ]
  },
  {
   "cell_type": "markdown",
   "id": "ea28e7ad",
   "metadata": {},
   "source": [
    "## 7. Identify the three blocks in this code:\n",
    "\n",
    "**Ans:**"
   ]
  },
  {
   "cell_type": "code",
   "execution_count": 29,
   "id": "cc6a55f4",
   "metadata": {},
   "outputs": [
    {
     "name": "stdout",
     "output_type": "stream",
     "text": [
      "ham\n",
      "spam\n",
      "spam\n"
     ]
    }
   ],
   "source": [
    "# In Python, code block refers to a collection of code that is in the same block or indent. \n",
    "# This is most commonly found in classes, functions, and loops.\n",
    "spam = 0  \n",
    "if spam == 10:  \n",
    "    print('eggs')  # block #1\n",
    "if spam > 5:  \n",
    "    print('bacon')  # block #2\n",
    "else:  \n",
    "    print('ham')  # block #3\n",
    "print('spam')  \n",
    "print('spam')"
   ]
  },
  {
   "cell_type": "code",
   "execution_count": null,
   "id": "bf68f308",
   "metadata": {},
   "outputs": [],
   "source": []
  }
 ],
 "metadata": {
  "kernelspec": {
   "display_name": "Python 3 (ipykernel)",
   "language": "python",
   "name": "python3"
  },
  "language_info": {
   "codemirror_mode": {
    "name": "ipython",
    "version": 3
   },
   "file_extension": ".py",
   "mimetype": "text/x-python",
   "name": "python",
   "nbconvert_exporter": "python",
   "pygments_lexer": "ipython3",
   "version": "3.9.9"
  }
 },
 "nbformat": 4,
 "nbformat_minor": 5
}
