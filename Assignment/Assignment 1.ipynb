{
 "cells": [
  {
   "cell_type": "markdown",
   "id": "7e1ec0d5",
   "metadata": {},
   "source": [
    "## 1. In the below elements which of them are values or an expression? \n",
    "**eg:-** values can be integer or string and expressions will be mathematical operators.  \n",
    "\n",
    "`*`,`'hello'`, `-87.8`,`-`,`/`,`+`,`6`\n",
    "\n",
    "**Ans:** \n",
    "\n",
    "**Values:** `'hello'`, `87.8`, `6`\n",
    "\n",
    "**Expression:** `*`,`-`,`/`,`+`  \n"
   ]
  },
  {
   "cell_type": "markdown",
   "id": "6de10c53",
   "metadata": {},
   "source": [
    "## 2. What is the difference between string and variable?\n",
    "\n",
    "**Ans:**\n",
    "\n",
    "**String:** String is the set of characters wrapped inside single quotes `' '`, double quotes `\" \"`, or triple quotes `''' '''`. It is an immutable `(not changeble)` data type. \n",
    "\n",
    "**Variable:** Variable is used to `store the information` on a `reserved memory location`. The information like `string, list, tuple, dictionary, set, etc.` "
   ]
  },
  {
   "cell_type": "markdown",
   "id": "09659996",
   "metadata": {},
   "source": [
    "## Example of an immutable and mutable:"
   ]
  },
  {
   "cell_type": "code",
   "execution_count": 11,
   "id": "85508535",
   "metadata": {},
   "outputs": [
    {
     "name": "stdout",
     "output_type": "stream",
     "text": [
      "List before :  [1, 2, 3, 4]\n",
      "List after :  [1, 22, 3, 4]\n"
     ]
    }
   ],
   "source": [
    "# list is mutable\n",
    "l = [1,2,3,4]\n",
    "print('List before : ',l)\n",
    "l[1] = 22\n",
    "print('List after : ',l)"
   ]
  },
  {
   "cell_type": "code",
   "execution_count": 12,
   "id": "fe20940c",
   "metadata": {},
   "outputs": [
    {
     "name": "stdout",
     "output_type": "stream",
     "text": [
      "String before :  immutable\n"
     ]
    },
    {
     "ename": "TypeError",
     "evalue": "'str' object does not support item assignment",
     "output_type": "error",
     "traceback": [
      "\u001b[1;31m---------------------------------------------------------------------------\u001b[0m",
      "\u001b[1;31mTypeError\u001b[0m                                 Traceback (most recent call last)",
      "\u001b[1;32m~\\AppData\\Local\\Temp/ipykernel_2884/2736004323.py\u001b[0m in \u001b[0;36m<module>\u001b[1;34m\u001b[0m\n\u001b[0;32m      2\u001b[0m \u001b[0ms\u001b[0m \u001b[1;33m=\u001b[0m \u001b[1;34m'immutable'\u001b[0m\u001b[1;33m\u001b[0m\u001b[1;33m\u001b[0m\u001b[0m\n\u001b[0;32m      3\u001b[0m \u001b[0mprint\u001b[0m\u001b[1;33m(\u001b[0m\u001b[1;34m'String before : '\u001b[0m\u001b[1;33m,\u001b[0m\u001b[0ms\u001b[0m\u001b[1;33m)\u001b[0m\u001b[1;33m\u001b[0m\u001b[1;33m\u001b[0m\u001b[0m\n\u001b[1;32m----> 4\u001b[1;33m \u001b[0ms\u001b[0m\u001b[1;33m[\u001b[0m\u001b[1;36m1\u001b[0m\u001b[1;33m]\u001b[0m \u001b[1;33m=\u001b[0m \u001b[1;34m'q'\u001b[0m\u001b[1;33m\u001b[0m\u001b[1;33m\u001b[0m\u001b[0m\n\u001b[0m\u001b[0;32m      5\u001b[0m \u001b[0mprint\u001b[0m\u001b[1;33m(\u001b[0m\u001b[1;34m'String after : '\u001b[0m\u001b[1;33m,\u001b[0m\u001b[0ms\u001b[0m\u001b[1;33m)\u001b[0m\u001b[1;33m\u001b[0m\u001b[1;33m\u001b[0m\u001b[0m\n",
      "\u001b[1;31mTypeError\u001b[0m: 'str' object does not support item assignment"
     ]
    }
   ],
   "source": [
    "# string is immutable\n",
    "s = 'immutable'\n",
    "print('String before : ',s)\n",
    "s[1] = 'q'\n",
    "print('String after : ',s)"
   ]
  },
  {
   "cell_type": "markdown",
   "id": "40dfef4b",
   "metadata": {},
   "source": [
    "## 3. Describe three different data types.\n",
    "\n",
    "**Ans:**\n",
    "\n",
    "1. **int (integers)**: int is a data type to represent whole numbers (integral values only). **eg:-** a = 18\n",
    "2. **float**: float is a data type to represent floating point values (decimal values). **eg:-** a = 18.1233\n",
    "3. **str (string)**: string is a data type to represent string values. **eg:-** a = 'string_1233'\n",
    "3. **complex data type**: complex number is represented by complex class. It is specified as (real part) + (imaginary part)j. **eg:-** a = 18+23j\n"
   ]
  },
  {
   "cell_type": "markdown",
   "id": "977971cd",
   "metadata": {},
   "source": [
    "## 4. What is an expression made up of? What do all expressions do?\n",
    "\n",
    "**Ans:**\n",
    "    \n",
    "Expression is made up of values, containers, and mathematical operators (operands) and expressions are used to evaluate the values or represent the result on the screen.\n",
    "\n",
    "**eg:-**\n",
    "12+45/2-25\n",
    "\n",
    "Is an Expression, The Python Interpreter Evaluates it to `9.5`"
   ]
  },
  {
   "cell_type": "markdown",
   "id": "da0e6ff7",
   "metadata": {},
   "source": [
    "## 5. This assignment statements, like spam = 10. What is the difference between an expression and a statement?\n",
    "\n",
    "**Ans:**\n",
    "    \n",
    "Expression is made up of values, containers, and mathematical operators (operands) and the statement is just like a command that a python interpreter executes like print.\n",
    "\n",
    "**eg:-**\n",
    "\n",
    "12+45/2-25  *`Is a Expression`*\n",
    "\n",
    "courseName = 'Is a Statement'  *`Is a Statement`*\n",
    "\n",
    "print(\"Is a Expression Statement !!! \")  *`Is a Expression Statement`*"
   ]
  },
  {
   "cell_type": "markdown",
   "id": "9461e181",
   "metadata": {},
   "source": [
    "## 6. After running the following code, what does the variable bacon contain?\n",
    "\n",
    "`bacon = 22`\n",
    "\n",
    "`bacon + 1`\n",
    "\n",
    "**Ans:**\n",
    "\n",
    "The variable bacon contain : `23`"
   ]
  },
  {
   "cell_type": "code",
   "execution_count": 22,
   "id": "852c2255",
   "metadata": {},
   "outputs": [
    {
     "data": {
      "text/plain": [
       "23"
      ]
     },
     "execution_count": 22,
     "metadata": {},
     "output_type": "execute_result"
    }
   ],
   "source": [
    "bacon = 22\n",
    "bacon + 1"
   ]
  },
  {
   "cell_type": "markdown",
   "id": "1c829fb1",
   "metadata": {},
   "source": [
    "## 7. What should the values of the following two terms be?\n",
    "\n",
    "`'spam' + 'spamspam'`\n",
    "\n",
    "`'spam' * 3`\n",
    "\n",
    "**Ans:**\n",
    "\n",
    "The value will be same `spamspamspam`. But the first term is performing `concatenation` and the second term is performing the `multiplication or repetation`."
   ]
  },
  {
   "cell_type": "code",
   "execution_count": 23,
   "id": "06d12a4e",
   "metadata": {},
   "outputs": [
    {
     "name": "stdout",
     "output_type": "stream",
     "text": [
      "spamspamspam\n",
      "spamspamspam\n"
     ]
    }
   ],
   "source": [
    "print('spam' + 'spamspam')\n",
    "print('spam' * 3)"
   ]
  },
  {
   "cell_type": "markdown",
   "id": "7e899148",
   "metadata": {},
   "source": [
    "## 8. Why is eggs a valid variable name while 100 is invalid?\n",
    "\n",
    "**Ans:**\n",
    "\n",
    "Variable names cannot start with a `number or integer and some symbols or special characters`. \n",
    "\n",
    "The python `rules` for naming a variable are :-\n",
    "\n",
    "1. Variable name must start with a letter or the underscore character.\n",
    "2. Variable name cannot start with a number.\n",
    "3. Variable name can only contain alpha-numeric characters and underscores (A-z, 0-9, & _ ).\n",
    "4. Variable names are case-sensitive (name, Name and NAME are three different variables).\n",
    "5. The reserved words(keywords) cannot be used naming the variable.\n"
   ]
  },
  {
   "cell_type": "code",
   "execution_count": 30,
   "id": "251f60fd",
   "metadata": {},
   "outputs": [
    {
     "ename": "SyntaxError",
     "evalue": "cannot assign to literal (Temp/ipykernel_2884/4154213380.py, line 3)",
     "output_type": "error",
     "traceback": [
      "\u001b[1;36m  File \u001b[1;32m\"C:\\Users\\SkyIndya\\AppData\\Local\\Temp/ipykernel_2884/4154213380.py\"\u001b[1;36m, line \u001b[1;32m3\u001b[0m\n\u001b[1;33m    100 = '100'\u001b[0m\n\u001b[1;37m    ^\u001b[0m\n\u001b[1;31mSyntaxError\u001b[0m\u001b[1;31m:\u001b[0m cannot assign to literal\n"
     ]
    }
   ],
   "source": [
    "eggs = 'eggs'\n",
    "print(eggs)\n",
    "100 = '100'\n",
    "print(100)"
   ]
  },
  {
   "cell_type": "code",
   "execution_count": 29,
   "id": "18cc3510",
   "metadata": {},
   "outputs": [
    {
     "name": "stdout",
     "output_type": "stream",
     "text": [
      "10\n",
      "10 20\n",
      "10 20 30\n"
     ]
    }
   ],
   "source": [
    "a = 10\n",
    "print(a)\n",
    "A = 20\n",
    "print(a, A)\n",
    "_a = 30\n",
    "print(a, A, _a)"
   ]
  },
  {
   "cell_type": "code",
   "execution_count": 31,
   "id": "a0c26b5f",
   "metadata": {},
   "outputs": [
    {
     "ename": "SyntaxError",
     "evalue": "invalid syntax (Temp/ipykernel_2884/552761268.py, line 1)",
     "output_type": "error",
     "traceback": [
      "\u001b[1;36m  File \u001b[1;32m\"C:\\Users\\SkyIndya\\AppData\\Local\\Temp/ipykernel_2884/552761268.py\"\u001b[1;36m, line \u001b[1;32m1\u001b[0m\n\u001b[1;33m    $a = 10\u001b[0m\n\u001b[1;37m    ^\u001b[0m\n\u001b[1;31mSyntaxError\u001b[0m\u001b[1;31m:\u001b[0m invalid syntax\n"
     ]
    }
   ],
   "source": [
    "$a = 10\n",
    "*a = 20"
   ]
  },
  {
   "cell_type": "code",
   "execution_count": 32,
   "id": "ed6319cd",
   "metadata": {},
   "outputs": [
    {
     "ename": "SyntaxError",
     "evalue": "invalid decimal literal (Temp/ipykernel_2884/734714273.py, line 1)",
     "output_type": "error",
     "traceback": [
      "\u001b[1;36m  File \u001b[1;32m\"C:\\Users\\SkyIndya\\AppData\\Local\\Temp/ipykernel_2884/734714273.py\"\u001b[1;36m, line \u001b[1;32m1\u001b[0m\n\u001b[1;33m    1_a = 10\u001b[0m\n\u001b[1;37m     ^\u001b[0m\n\u001b[1;31mSyntaxError\u001b[0m\u001b[1;31m:\u001b[0m invalid decimal literal\n"
     ]
    }
   ],
   "source": [
    "1_a = 10"
   ]
  },
  {
   "cell_type": "markdown",
   "id": "d2d0bc77",
   "metadata": {},
   "source": [
    "## 9. What three functions can be used to get the integer, floating-point number, or string version of a value?\n",
    "\n",
    "**Ans:**\n",
    "\n",
    "The `int(), float() and str()` functions will used to get the integer, floating-point number and string version of the value passed to them.\n",
    "\n",
    "**eg:-**\n",
    "\n",
    "> int(10.0) *`10`*\n",
    "\n",
    "> float(10.0) *`10.0`*\n",
    "\n",
    "> str(10.0) *`'10.0'`*"
   ]
  },
  {
   "cell_type": "code",
   "execution_count": 34,
   "id": "37b2e75b",
   "metadata": {},
   "outputs": [
    {
     "name": "stdout",
     "output_type": "stream",
     "text": [
      "int(10.0) : 10\n",
      "float(10.0) :  10.0\n",
      "str(10.0) :  10.0\n"
     ]
    }
   ],
   "source": [
    "print('int(10.0) :', int(10.0))\n",
    "print('float(10.0) : ', float(10.0))\n",
    "print('str(10.0) : ',str(10.0))"
   ]
  },
  {
   "cell_type": "markdown",
   "id": "272ddfc6",
   "metadata": {},
   "source": [
    "## 10. Why does this expression cause an error? How can you fix it?\n",
    "\n",
    "`'I have eaten ' + 99 + ' burritos.'`\n",
    "\n",
    "**Ans:**\n",
    "\n",
    "Give error : `TypeError: can only concatenate str (not \"int\") to str`; means, in this case error occurs because of 99, 99 is not a string its in int. To fix this error, just typecast int(99) to str(99).\\\n",
    "\n",
    "**Like:**\n",
    "\n",
    "`'I have eaten ' + str(99) + ' burritos.'`\n",
    "\n",
    "`'I have eaten 99 burritos.'`"
   ]
  },
  {
   "cell_type": "code",
   "execution_count": 35,
   "id": "3ce2d401",
   "metadata": {},
   "outputs": [
    {
     "ename": "TypeError",
     "evalue": "can only concatenate str (not \"int\") to str",
     "output_type": "error",
     "traceback": [
      "\u001b[1;31m---------------------------------------------------------------------------\u001b[0m",
      "\u001b[1;31mTypeError\u001b[0m                                 Traceback (most recent call last)",
      "\u001b[1;32m~\\AppData\\Local\\Temp/ipykernel_2884/1774935878.py\u001b[0m in \u001b[0;36m<module>\u001b[1;34m\u001b[0m\n\u001b[1;32m----> 1\u001b[1;33m \u001b[1;34m'I have eaten '\u001b[0m \u001b[1;33m+\u001b[0m \u001b[1;36m99\u001b[0m \u001b[1;33m+\u001b[0m \u001b[1;34m' burritos.'\u001b[0m\u001b[1;33m\u001b[0m\u001b[1;33m\u001b[0m\u001b[0m\n\u001b[0m",
      "\u001b[1;31mTypeError\u001b[0m: can only concatenate str (not \"int\") to str"
     ]
    }
   ],
   "source": [
    "'I have eaten ' + 99 + ' burritos.'"
   ]
  },
  {
   "cell_type": "code",
   "execution_count": 36,
   "id": "d038cb2b",
   "metadata": {},
   "outputs": [
    {
     "data": {
      "text/plain": [
       "'I have eaten 99 burritos.'"
      ]
     },
     "execution_count": 36,
     "metadata": {},
     "output_type": "execute_result"
    }
   ],
   "source": [
    "'I have eaten ' + str(99) + ' burritos.'"
   ]
  },
  {
   "cell_type": "code",
   "execution_count": null,
   "id": "6883d93e",
   "metadata": {},
   "outputs": [],
   "source": []
  }
 ],
 "metadata": {
  "kernelspec": {
   "display_name": "Python 3 (ipykernel)",
   "language": "python",
   "name": "python3"
  },
  "language_info": {
   "codemirror_mode": {
    "name": "ipython",
    "version": 3
   },
   "file_extension": ".py",
   "mimetype": "text/x-python",
   "name": "python",
   "nbconvert_exporter": "python",
   "pygments_lexer": "ipython3",
   "version": "3.9.9"
  }
 },
 "nbformat": 4,
 "nbformat_minor": 5
}
